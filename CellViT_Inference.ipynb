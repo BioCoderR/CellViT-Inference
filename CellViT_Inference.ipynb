{
  "nbformat": 4,
  "nbformat_minor": 0,
  "metadata": {
    "colab": {
      "provenance": [],
      "gpuType": "T4",
      "authorship_tag": "ABX9TyNMQZ3sfZxtupkf49q2mk3U",
      "include_colab_link": true
    },
    "kernelspec": {
      "name": "python3",
      "display_name": "Python 3"
    },
    "language_info": {
      "name": "python"
    },
    "accelerator": "GPU"
  },
  "cells": [
    {
      "cell_type": "markdown",
      "metadata": {
        "id": "view-in-github",
        "colab_type": "text"
      },
      "source": [
        "<a href=\"https://colab.research.google.com/github/TIO-IKIM/CellViT-Inference/blob/main/CellViT_Inference.ipynb\" target=\"_parent\"><img src=\"https://colab.research.google.com/assets/colab-badge.svg\" alt=\"Open In Colab\"/></a>"
      ]
    },
    {
      "cell_type": "markdown",
      "source": [
        "# CellViT Inference pipeline in Colab\n",
        "\n",
        "Here is an example ob how to install CellViT-Inference in Colab using some example slides. For runtime environment, please select a GPU runtime (e.g., T4 GPU)"
      ],
      "metadata": {
        "id": "G0nASWl5KTeu"
      }
    },
    {
      "cell_type": "markdown",
      "source": [
        "## Setup/Installation\n",
        "\n",
        "As PyTorch is already installed, we can skip the torch installation commands"
      ],
      "metadata": {
        "id": "aRbdZBJCKmO-"
      }
    },
    {
      "cell_type": "code",
      "execution_count": null,
      "metadata": {
        "collapsed": true,
        "id": "ziCjI59uDOxZ"
      },
      "outputs": [],
      "source": [
        "!apt update && apt install -y openslide-tools\n",
        "!pip install cellvit"
      ]
    },
    {
      "cell_type": "code",
      "source": [
        "!cellvit-check"
      ],
      "metadata": {
        "id": "XVW6LP-mEBdZ"
      },
      "execution_count": null,
      "outputs": []
    },
    {
      "cell_type": "markdown",
      "source": [
        "# Example for Inference\n",
        "\n",
        "Be careful: The free instances just provide 2 CPU cores for your runtime. Thus,we need to set the hardware limits accordingly and overwrite them"
      ],
      "metadata": {
        "id": "sA3IYs8MKB3B"
      }
    },
    {
      "cell_type": "markdown",
      "source": [
        "First, download the test database"
      ],
      "metadata": {
        "id": "xnwQkbeqM8C_"
      }
    },
    {
      "cell_type": "code",
      "source": [
        "!cellvit-download-examples"
      ],
      "metadata": {
        "id": "x-6SuMndM-mv"
      },
      "execution_count": null,
      "outputs": []
    },
    {
      "cell_type": "code",
      "source": [
        "!cellvit-inference \\\n",
        "    --model HIPT \\\n",
        "    --outdir ./test_results/BRACS/minimal/HIPT \\\n",
        "    --cpu_count 4 \\\n",
        "    --ray_worker 1 \\\n",
        "    --ray_remote_cpus 1 \\\n",
        "    --debug \\\n",
        "    process_wsi \\\n",
        "    --wsi_path ./test_database/BRACS/BRACS_1640_N_3_cropped.tiff \\\n",
        "    --wsi_mpp 0.25 \\\n",
        "    --wsi_magnification 40"
      ],
      "metadata": {
        "id": "t4zMTE99MVKd"
      },
      "execution_count": null,
      "outputs": []
    },
    {
      "cell_type": "markdown",
      "source": [
        "This also works for larger WSI"
      ],
      "metadata": {
        "id": "YqYEwTC-MVeA"
      }
    },
    {
      "cell_type": "code",
      "source": [
        "!cellvit-inference \\\n",
        "    --model HIPT \\\n",
        "    --outdir ./test_results/x40_svs/minimal/HIPT \\\n",
        "    --cpu_count 4 \\\n",
        "    --ray_worker 1 \\\n",
        "    --ray_remote_cpus 1 \\\n",
        "    process_wsi \\\n",
        "    --wsi_path ./test_database/x40_svs/JP2K-33003-2.svs"
      ],
      "metadata": {
        "id": "33_QyEyYFf9d"
      },
      "execution_count": null,
      "outputs": []
    },
    {
      "cell_type": "markdown",
      "source": [
        "The results can be found in the test_results folder"
      ],
      "metadata": {
        "id": "0scuMhU_NmdC"
      }
    },
    {
      "cell_type": "code",
      "source": [],
      "metadata": {
        "id": "0S6iMprONplW"
      },
      "execution_count": null,
      "outputs": []
    }
  ]
}